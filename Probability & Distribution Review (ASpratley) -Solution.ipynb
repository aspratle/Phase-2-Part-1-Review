{
 "cells": [
  {
   "cell_type": "code",
   "execution_count": 12,
   "source": [
    "import itertools\n",
    "import numpy as np\n",
    "import pandas as pd \n",
    "from numbers import Number\n",
    "from scipy import stats\n",
    "import matplotlib.pyplot as plt\n",
    "import seaborn as sns\n",
    "%matplotlib inline\n",
    "\n",
    "import pickle"
   ],
   "outputs": [],
   "metadata": {}
  },
  {
   "cell_type": "markdown",
   "source": [
    "## Section 1:  Probabilities "
   ],
   "metadata": {}
  },
  {
   "cell_type": "markdown",
   "source": [
    "\n",
    "\n",
    "### Given that \n",
    "### P(A) = 0.8\n",
    "### P(B) = 0.4 \n",
    "### P(B|A) = 0.3\n",
    "\n",
    "### What is P(A and B) if A and B are independent?  "
   ],
   "metadata": {}
  },
  {
   "cell_type": "code",
   "execution_count": 5,
   "source": [
    "#Begin Solution \n",
    "\n",
    "result = 0.8*0.4\n",
    "result\n",
    "\n",
    "\n",
    "#End Solution "
   ],
   "outputs": [
    {
     "output_type": "execute_result",
     "data": {
      "text/plain": [
       "0.32000000000000006"
      ]
     },
     "metadata": {},
     "execution_count": 5
    }
   ],
   "metadata": {}
  },
  {
   "cell_type": "markdown",
   "source": [
    "### What is P(A and B) if A and B are dependent?  "
   ],
   "metadata": {}
  },
  {
   "cell_type": "code",
   "execution_count": 8,
   "source": [
    "#Begin Solution \n",
    "\n",
    "result2 = 0.3/0.4\n",
    "result2\n",
    "\n",
    "#End Solution "
   ],
   "outputs": [
    {
     "output_type": "execute_result",
     "data": {
      "text/plain": [
       "0.7499999999999999"
      ]
     },
     "metadata": {},
     "execution_count": 8
    }
   ],
   "metadata": {}
  },
  {
   "cell_type": "markdown",
   "source": [
    "### What is P(A or B) if A and B are mutually exclusive?"
   ],
   "metadata": {}
  },
  {
   "cell_type": "code",
   "execution_count": 3,
   "source": [
    "#Begin Solution \n",
    "\n",
    "result3 = 0.8 + 0.4\n",
    "result3\n",
    "\n",
    "#End Solution "
   ],
   "outputs": [
    {
     "output_type": "execute_result",
     "data": {
      "text/plain": [
       "0.7"
      ]
     },
     "metadata": {},
     "execution_count": 3
    }
   ],
   "metadata": {}
  },
  {
   "cell_type": "markdown",
   "source": [
    "### What is P(A or B) if A and B are not mutually exclusive? "
   ],
   "metadata": {}
  },
  {
   "cell_type": "code",
   "execution_count": 9,
   "source": [
    "#Begin Solution \n",
    "\n",
    "result4 = (0.8 + 0.4) - result2\n",
    "result4\n",
    "\n",
    "#End Solution "
   ],
   "outputs": [
    {
     "output_type": "execute_result",
     "data": {
      "text/plain": [
       "0.4500000000000003"
      ]
     },
     "metadata": {},
     "execution_count": 9
    }
   ],
   "metadata": {}
  },
  {
   "cell_type": "markdown",
   "source": [
    "## Section 2:  Normal Distributions "
   ],
   "metadata": {}
  },
  {
   "cell_type": "markdown",
   "source": [
    "## In this part, you will analyze hours of sleep for Freshman at a University. We know that the population distribution of hours of sleep for Freshman at the University is normally distributed with a mean of 6 and a standard deviation of 2\n",
    "\n"
   ],
   "metadata": {}
  },
  {
   "cell_type": "markdown",
   "source": [
    "### Create a numeric variable z_eight that contains the z-score for a Freshman that sleeps 8 hours "
   ],
   "metadata": {}
  },
  {
   "cell_type": "code",
   "execution_count": 11,
   "source": [
    "#Begin Solution \n",
    "\n",
    "z_eight = (8-6)/2\n",
    "z_eight\n",
    "\n",
    "#End Solution \n"
   ],
   "outputs": [
    {
     "output_type": "execute_result",
     "data": {
      "text/plain": [
       "1.0"
      ]
     },
     "metadata": {},
     "execution_count": 11
    }
   ],
   "metadata": {}
  },
  {
   "cell_type": "markdown",
   "source": [
    "### Create a numeric variable z_over_eight containing the approximate proportion of Freshman who get more than 8 hours of sleep "
   ],
   "metadata": {}
  },
  {
   "cell_type": "code",
   "execution_count": 13,
   "source": [
    "#Begin Solution \n",
    "\n",
    "z_over_eight = 1-stats.norm.cdf(1.0)\n",
    "z_over_eight\n",
    "\n",
    "#End Soltuion "
   ],
   "outputs": [
    {
     "output_type": "execute_result",
     "data": {
      "text/plain": [
       "0.15865525393145707"
      ]
     },
     "metadata": {},
     "execution_count": 13
    }
   ],
   "metadata": {}
  },
  {
   "cell_type": "markdown",
   "source": [
    "### Create numeric variables conf_low and conf_high containing the lower and upper bounds (respectively) of a 95% confidence interval for the mean of one Freshman's sleep hours using the information below.¶\n",
    "### One week, a Freshman sleeps 7 times with a mean of 5 hours and a standard deviation of 0.5 hours \n",
    "\n"
   ],
   "metadata": {}
  },
  {
   "cell_type": "code",
   "execution_count": 15,
   "source": [
    "#Begin Solution \n",
    "\n",
    "#Starter Code\n",
    "\n",
    "n = 7\n",
    "mean = 5\n",
    "std = 0.5\n",
    "\n",
    "#Calculate Standard Error \n",
    "sterr = std/(n**0.5)\n",
    "\n",
    "# 95% confidence interval has z-score of +- 1.96\n",
    "conf_low = mean - 1.96*sterr\n",
    "conf_high = mean + 1.96*sterr\n",
    "\n",
    "print('The lower bound of the 95% confidence interval is {}'.format(conf_low))\n",
    "print('The upper bound of the 95% confidence interval is {}'.format(conf_high))\n",
    "#End Solution "
   ],
   "outputs": [
    {
     "output_type": "stream",
     "name": "stdout",
     "text": [
      "The lower bound of the 95% confidence interval is 4.6295948164509575\n",
      "The upper bound of the 95% confidence interval is 5.3704051835490425\n"
     ]
    }
   ],
   "metadata": {}
  },
  {
   "cell_type": "markdown",
   "source": [
    "### Interpret the 95% Confidence Interval that you derived in the above question"
   ],
   "metadata": {}
  },
  {
   "cell_type": "markdown",
   "source": [
    "#Begin Solution \n",
    "\n",
    "A 95% confidence interval means that there is a 95% chance for the interval to contain the true population mean. In this case, that means there is a 95% chance that the true mean of the distribution of hours of sleep for Freshman is between 4.6 and 5.4 hours.  \n",
    "\n",
    "#End Solution "
   ],
   "metadata": {}
  },
  {
   "cell_type": "markdown",
   "source": [
    "## Section 3:  Bayes' Theorem (Conditional Probabilities)"
   ],
   "metadata": {}
  },
  {
   "cell_type": "markdown",
   "source": [
    "$$ P(A|B) = \\dfrac{P(B|A)P(A)}{P(B)}$$"
   ],
   "metadata": {}
  },
  {
   "cell_type": "markdown",
   "source": [
    "### A medical test is designed to diagnose a certain disease. The test has a false positive rate of 8%, meaning that 8% of people without the disease will get a positive test result. The test has a false negative rate of 3%, meaning that 3% of people with the disease will get a negative result. Only 1% of the population has this disease.\n",
    "\n"
   ],
   "metadata": {}
  },
  {
   "cell_type": "markdown",
   "source": [
    "### Question:  Create a numeric variable p_pos_test containing the probability of a person receiving a positive test result.\n",
    "### Assume that the person being tested is randomly selected from the broader population.\n",
    "\n"
   ],
   "metadata": {}
  },
  {
   "cell_type": "code",
   "execution_count": null,
   "source": [
    "Starter Code\n",
    "\n",
    "false_pos_rate = 0.08\n",
    "false_neg_rate = 0.03\n",
    "population_rate = 0.01\n",
    "\n",
    "'''p_pos_test = P(Pos|Disease)*P(Dis) + P(Pos|No Disease)*P(No Disease)\n",
    "           = 0.92*0.01 + 0.08*0.99\n",
    "           =8.84%'''"
   ],
   "outputs": [],
   "metadata": {}
  }
 ],
 "metadata": {
  "kernelspec": {
   "display_name": "Python 3",
   "language": "python",
   "name": "python3"
  },
  "language_info": {
   "codemirror_mode": {
    "name": "ipython",
    "version": 3
   },
   "file_extension": ".py",
   "mimetype": "text/x-python",
   "name": "python",
   "nbconvert_exporter": "python",
   "pygments_lexer": "ipython3",
   "version": "3.8.8"
  }
 },
 "nbformat": 4,
 "nbformat_minor": 5
}