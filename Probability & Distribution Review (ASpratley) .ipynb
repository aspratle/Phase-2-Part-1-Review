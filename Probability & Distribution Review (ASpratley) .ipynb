{
 "cells": [
  {
   "cell_type": "code",
   "execution_count": 1,
   "source": [
    "import math \n",
    "import numpy as np"
   ],
   "outputs": [],
   "metadata": {}
  },
  {
   "cell_type": "markdown",
   "source": [
    "## Section 1:  Probabilities "
   ],
   "metadata": {}
  },
  {
   "cell_type": "markdown",
   "source": [
    "\n",
    "\n",
    "### Given that \n",
    "### P(A) = 0.8 \n",
    "### P(B) = 0.4 \n",
    "### P(B|A) = 0.3\n",
    "\n",
    "### What is P(A and B) if A and B are independent?  "
   ],
   "metadata": {}
  },
  {
   "cell_type": "code",
   "execution_count": 2,
   "source": [
    "#Begin Solution \n",
    "\n",
    "\n",
    "\n",
    "#End Solution "
   ],
   "outputs": [],
   "metadata": {}
  },
  {
   "cell_type": "markdown",
   "source": [
    "### What is P(A and B) if A and B are dependent?  "
   ],
   "metadata": {}
  },
  {
   "cell_type": "code",
   "execution_count": 3,
   "source": [
    "#Begin Solution \n",
    "\n",
    "\n",
    "#End Solution "
   ],
   "outputs": [],
   "metadata": {}
  },
  {
   "cell_type": "markdown",
   "source": [
    "### What is P(A or B) if A and B are mutually exclusive?"
   ],
   "metadata": {}
  },
  {
   "cell_type": "code",
   "execution_count": 4,
   "source": [
    "#Begin Solution \n",
    "\n",
    "\n",
    "#End Solution "
   ],
   "outputs": [],
   "metadata": {}
  },
  {
   "cell_type": "markdown",
   "source": [
    "### What is P(A or B) if A and B are not mutually exclusive? "
   ],
   "metadata": {}
  },
  {
   "cell_type": "code",
   "execution_count": 5,
   "source": [
    "#Begin Solution \n",
    "\n",
    "\n",
    "\n",
    "#End Solution "
   ],
   "outputs": [],
   "metadata": {}
  },
  {
   "cell_type": "markdown",
   "source": [
    "## Section 2:  Normal Distributions "
   ],
   "metadata": {}
  },
  {
   "cell_type": "markdown",
   "source": [
    "## In this part, you will analyze hours of sleep for Freshman at a University. We know that the population distribution of hours of sleep for Freshman at the University is normally distributed with a mean of 6 and a standard deviation of 2\n",
    "\n"
   ],
   "metadata": {}
  },
  {
   "cell_type": "markdown",
   "source": [
    "### Create a numeric variable z_eight that contains the z-score for a Freshman that sleeps 8 hours "
   ],
   "metadata": {}
  },
  {
   "cell_type": "code",
   "execution_count": null,
   "source": [
    "#Begin Solution \n",
    "\n",
    "z_eight = None \n",
    "\n",
    "#End Solution \n"
   ],
   "outputs": [],
   "metadata": {}
  },
  {
   "cell_type": "markdown",
   "source": [
    "### Create a numeric variable z_over_eight containing the approximate proportion of Freshman who get more than 8 hours of sleep "
   ],
   "metadata": {}
  },
  {
   "cell_type": "code",
   "execution_count": null,
   "source": [
    "#Begin Solution \n",
    "\n",
    "z_over_eight = None \n",
    "\n",
    "#End Soltuion "
   ],
   "outputs": [],
   "metadata": {}
  },
  {
   "cell_type": "markdown",
   "source": [
    "### Create numeric variables conf_low and conf_high containing the lower and upper bounds (respectively) of a 95% confidence interval for the mean of one Freshman's sleep hours using the information below.¶\n",
    "### One week, a Freshman sleeps 7 times with a mean of 5 hours and a standard deviation of 0.5 hours \n",
    "\n"
   ],
   "metadata": {}
  },
  {
   "cell_type": "code",
   "execution_count": null,
   "source": [
    "#Begin Solution \n",
    "\n",
    "Starter Code\n",
    "\n",
    "n = 7\n",
    "mean = 5\n",
    "std = 0.5\n",
    "\n",
    "#Calculate Standard Error \n",
    "sterr = \n",
    "\n",
    "# 95% confidence interval has z-score of +- 1.96\n",
    "conf_low = \n",
    "conf_high = \n",
    "\n",
    "#End Solution "
   ],
   "outputs": [],
   "metadata": {}
  },
  {
   "cell_type": "markdown",
   "source": [
    "### Interpret the 95% Confidence Interval that you derived in the above question"
   ],
   "metadata": {}
  },
  {
   "cell_type": "markdown",
   "source": [
    "###Solution below (edit this box)"
   ],
   "metadata": {}
  },
  {
   "cell_type": "markdown",
   "source": [
    "## Section 3:  Bayes' Theorem (Conditional Probabilities)"
   ],
   "metadata": {}
  },
  {
   "cell_type": "markdown",
   "source": [
    "$$ P(A|B) = \\dfrac{P(B|A)P(A)}{P(B)}$$"
   ],
   "metadata": {}
  },
  {
   "cell_type": "markdown",
   "source": [
    "### A medical test is designed to diagnose a certain disease. The test has a false positive rate of 8%, meaning that 8% of people without the disease will get a positive test result. The test has a false negative rate of 3%, meaning that 3% of people with the disease will get a negative result. Only 1% of the population has this disease.\n",
    "\n"
   ],
   "metadata": {}
  },
  {
   "cell_type": "markdown",
   "source": [
    "### Question:  Create a numeric variable p_pos_test containing the probability of a person receiving a positive test result.\n",
    "### Assume that the person being tested is randomly selected from the broader population.\n",
    "\n"
   ],
   "metadata": {}
  },
  {
   "cell_type": "code",
   "execution_count": null,
   "source": [
    "Starter Code\n",
    "\n",
    "false_pos_rate = 0.08\n",
    "false_neg_rate = 0.03\n",
    "population_rate = 0.01\n",
    "\n",
    "p_pos_test = "
   ],
   "outputs": [],
   "metadata": {}
  }
 ],
 "metadata": {
  "kernelspec": {
   "display_name": "Python 3",
   "language": "python",
   "name": "python3"
  },
  "language_info": {
   "codemirror_mode": {
    "name": "ipython",
    "version": 3
   },
   "file_extension": ".py",
   "mimetype": "text/x-python",
   "name": "python",
   "nbconvert_exporter": "python",
   "pygments_lexer": "ipython3",
   "version": "3.8.8"
  }
 },
 "nbformat": 4,
 "nbformat_minor": 5
}